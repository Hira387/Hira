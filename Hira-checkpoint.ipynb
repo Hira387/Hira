{
 "cells": [
  {
   "cell_type": "code",
   "execution_count": 5,
   "id": "1e45e1fd-6dd8-4db8-b3fb-32c02efb677f",
   "metadata": {},
   "outputs": [
    {
     "name": "stdout",
     "output_type": "stream",
     "text": [
      "What is the capital of France?\n",
      "1. Paris\n",
      "2. London\n",
      "3. Berlin\n",
      "4. Rome\n"
     ]
    },
    {
     "name": "stdin",
     "output_type": "stream",
     "text": [
      "Enter the number of your answer:  1\n"
     ]
    },
    {
     "name": "stdout",
     "output_type": "stream",
     "text": [
      "Correct!\n",
      "\n",
      "What is the largest planet in our solar system?\n",
      "1. Earth\n",
      "2. Saturn\n",
      "3. Jupiter\n",
      "4. Uranus\n"
     ]
    },
    {
     "name": "stdin",
     "output_type": "stream",
     "text": [
      "Enter the number of your answer:  3\n"
     ]
    },
    {
     "name": "stdout",
     "output_type": "stream",
     "text": [
      "Correct!\n",
      "\n",
      "Who wrote Romeo and Juliet?\n",
      "1. William Shakespeare\n",
      "2. Jane Austen\n",
      "3. Charles Dickens\n",
      "4. J.K. Rowling\n"
     ]
    },
    {
     "name": "stdin",
     "output_type": "stream",
     "text": [
      "Enter the number of your answer:  1\n"
     ]
    },
    {
     "name": "stdout",
     "output_type": "stream",
     "text": [
      "Correct!\n",
      "\n",
      "Your final score is 3 out of 3\n"
     ]
    }
   ],
   "source": [
    "def run_quiz():\n",
    "    # List of questions with multiple-choice answers\n",
    "    questions = [\n",
    "        {\n",
    "            \"question\": \"What is the capital of France?\",\n",
    "            \"options\": [\"Paris\", \"London\", \"Berlin\", \"Rome\"],\n",
    "            \"answer\": \"Paris\"\n",
    "        },\n",
    "        {\n",
    "            \"question\": \"What is the largest planet in our solar system?\",\n",
    "            \"options\": [\"Earth\", \"Saturn\", \"Jupiter\", \"Uranus\"],\n",
    "            \"answer\": \"Jupiter\"\n",
    "        },\n",
    "        {\n",
    "            \"question\": \"Who wrote Romeo and Juliet?\",\n",
    "            \"options\": [\"William Shakespeare\", \"Jane Austen\", \"Charles Dickens\", \"J.K. Rowling\"],\n",
    "            \"answer\": \"William Shakespeare\"\n",
    "        }\n",
    "    ]\n",
    "\n",
    "    # Initialize score\n",
    "    score = 0\n",
    "\n",
    "    # Loop through each question\n",
    "    for question in questions:\n",
    "        print(question[\"question\"])\n",
    "        for i, option in enumerate(question[\"options\"]):\n",
    "            print(f\"{i + 1}. {option}\")\n",
    "\n",
    "        # Get user's answer\n",
    "        try:\n",
    "            user_input = input(\"Enter the number of your answer: \")\n",
    "            user_index = int(user_input) - 1\n",
    "            user_answer = question[\"options\"][user_index]\n",
    "\n",
    "            # Check if user's answer is correct\n",
    "            if user_answer == question[\"answer\"]:\n",
    "                print(\"Correct!\\n\")\n",
    "                score += 1\n",
    "            else:\n",
    "                print(f\"Sorry, the correct answer is {question['answer']}\\n\")\n",
    "        except (ValueError, IndexError):\n",
    "            print(\"Invalid input. Skipping to next question.\\n\")\n",
    "\n",
    "    # Display final score\n",
    "    print(f\"Your final score is {score} out of {len(questions)}\")\n",
    "\n",
    "# Call the function to run the quiz\n",
    "run_quiz()\n"
   ]
  },
  {
   "cell_type": "code",
   "execution_count": null,
   "id": "2c88df1b-d58b-45ac-ba84-87d37121328c",
   "metadata": {},
   "outputs": [],
   "source": []
  }
 ],
 "metadata": {
  "kernelspec": {
   "display_name": "Python 3 (ipykernel)",
   "language": "python",
   "name": "python3"
  },
  "language_info": {
   "codemirror_mode": {
    "name": "ipython",
    "version": 3
   },
   "file_extension": ".py",
   "mimetype": "text/x-python",
   "name": "python",
   "nbconvert_exporter": "python",
   "pygments_lexer": "ipython3",
   "version": "3.10.9"
  }
 },
 "nbformat": 4,
 "nbformat_minor": 5
}
